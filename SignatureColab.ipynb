{
  "nbformat": 4,
  "nbformat_minor": 0,
  "metadata": {
    "colab": {
      "name": "Signature.ipynb",
      "version": "0.3.2",
      "provenance": [],
      "collapsed_sections": []
    },
    "kernelspec": {
      "name": "python3",
      "display_name": "Python 3"
    },
    "accelerator": "GPU"
  },
  "cells": [
    {
      "metadata": {
        "id": "xggOV-sujtJm",
        "colab_type": "code",
        "colab": {}
      },
      "cell_type": "code",
      "source": [
        "#!mkdir Signature\n",
        "#!cd Signature"
      ],
      "execution_count": 0,
      "outputs": []
    },
    {
      "metadata": {
        "id": "ITQF7tQkj0p4",
        "colab_type": "code",
        "colab": {}
      },
      "cell_type": "code",
      "source": [
        "#!wget http://www.iapr-tc11.org/dataset/ICDAR_SignatureVerification/SigComp2011/sigComp2011-trainingSet.zip"
      ],
      "execution_count": 0,
      "outputs": []
    },
    {
      "metadata": {
        "id": "xt45Pjw8kGWu",
        "colab_type": "code",
        "colab": {}
      },
      "cell_type": "code",
      "source": [
        "#!unzip -P \"I hereby accept the SigComp 2011 disclaimer.\" sigComp2011-trainingSet.zip"
      ],
      "execution_count": 0,
      "outputs": []
    },
    {
      "metadata": {
        "id": "JSmUHDPVkYyF",
        "colab_type": "code",
        "colab": {}
      },
      "cell_type": "code",
      "source": [
        "#!pip3 install http://download.pytorch.org/whl/cu80/torch-0.4.1-cp36-cp36m-linux_x86_64.whl"
      ],
      "execution_count": 0,
      "outputs": []
    },
    {
      "metadata": {
        "id": "dPnHEoptlRtZ",
        "colab_type": "code",
        "colab": {}
      },
      "cell_type": "code",
      "source": [
        "#!pip3 install torchvision"
      ],
      "execution_count": 0,
      "outputs": []
    },
    {
      "metadata": {
        "id": "J6M67hCIlXfb",
        "colab_type": "code",
        "colab": {}
      },
      "cell_type": "code",
      "source": [
        "import cv2\n",
        "import numpy as np\n",
        "import os\n",
        "import matplotlib.pyplot as plt\n",
        "from PIL import Image, ImageChops\n",
        "import random\n",
        "\n",
        "%matplotlib inline"
      ],
      "execution_count": 0,
      "outputs": []
    },
    {
      "metadata": {
        "id": "X5PTd8eEl6IY",
        "colab_type": "code",
        "colab": {}
      },
      "cell_type": "code",
      "source": [
        "#imports\n",
        "\n",
        "from __future__ import print_function, division\n",
        "import torch\n",
        "import torch.nn as nn\n",
        "from skimage import io, transform\n",
        "from torch.utils.data import Dataset, DataLoader\n",
        "from torchvision import transforms, utils\n",
        "from torch.autograd import Variable\n",
        "import torch.nn.functional as F\n",
        "\n",
        "# Ignore warnings\n",
        "import warnings\n",
        "warnings.filterwarnings(\"ignore\")\n",
        "\n",
        "plt.ion()   # interactive mode\n"
      ],
      "execution_count": 0,
      "outputs": []
    },
    {
      "metadata": {
        "id": "jwpfJWfil8Be",
        "colab_type": "code",
        "colab": {}
      },
      "cell_type": "code",
      "source": [
        "#PATHS\n",
        "\n",
        "current_dir = os.path.dirname('./')\n",
        "\n",
        "genuine_folder = os.path.join(current_dir, 'trainingSet/OfflineSignatures/Chinese/TrainingSet/Offline Genuine')\n",
        "forgeries_folder = os.path.join(current_dir, 'trainingSet/OfflineSignatures/Chinese/TrainingSet/Offline Forgeries')   "
      ],
      "execution_count": 0,
      "outputs": []
    },
    {
      "metadata": {
        "id": "-qfW4Zg9l_pi",
        "colab_type": "code",
        "colab": {}
      },
      "cell_type": "code",
      "source": [
        "'''\n",
        "CROPPING & RESIZING TRAINING DATA\n",
        "'''\n",
        "\n",
        "# Image trimming function\n",
        "def trim(im):\n",
        "    bg = Image.new(im.mode, im.size, im.getpixel((0,0)))\n",
        "    diff = ImageChops.difference(im, bg)\n",
        "    diff = ImageChops.add(diff, diff, 2.0, -100)\n",
        "    bbox = diff.getbbox()\n",
        "    if bbox:\n",
        "        return im.crop(bbox)\n",
        "\n",
        "#Genuine Data\n",
        "\n",
        "genuine_data = []\n",
        "genuine_label = []\n",
        "for filename in os.listdir(genuine_folder):\n",
        "    im = Image.open(os.path.join(genuine_folder, filename), 'r')       \n",
        "    im = trim(im)                                                     #trimming images roughly till the borders\n",
        "    \n",
        "    imgnd = np.array(im)\n",
        "    \n",
        "    img = cv2.cvtColor(imgnd, cv2.COLOR_RGB2BGR)                      #converting PIL image to CV2 image\n",
        "    h, w, d = img.shape                                               #getting dimesnions of image\n",
        "    \n",
        "    crop_img = img[30:h-30, 30:w-30]                                  #cropping 30+30 pixels extra to remove slant borders\n",
        "    height, width, depth = crop_img.shape                             # getting gimesnions of cropped image\n",
        "    \n",
        "    img_padded = cv2.copyMakeBorder(crop_img,\n",
        "                                    (350-(height-int(height/2))), (350-int(height/2)), (550-int(width/2)), (550-(width-int(width/2))),\n",
        "                                    cv2.BORDER_CONSTANT, value = [255,255,255])\n",
        "    crop_img_final = img_padded[200:600, 100:900]\n",
        "    \n",
        "    genuine_data.append(crop_img_final)\n",
        "    genuine_label.append(filename)\n",
        "    \n",
        "#Forgeries Data\n",
        "\n",
        "forgeries_data = []\n",
        "forged_label = []\n",
        "for filename in os.listdir(forgeries_folder):\n",
        "    im = Image.open(os.path.join(forgeries_folder, filename), 'r')\n",
        "    im = trim(im)                                                     #trimming images roughly till the borders\n",
        "    \n",
        "    imgnd = np.array(im)\n",
        "    \n",
        "    img = cv2.cvtColor(imgnd, cv2.COLOR_RGB2BGR)                      #converting PIL image to CV2 image\n",
        "    h, w, d = img.shape                                               #getting dimesnions of image\n",
        "    \n",
        "    crop_img = img[30:h-30, 30:w-30]                                  #cropping 30+30 pixels extra to remove slant borders\n",
        "    height, width, depth = crop_img.shape                             # getting gimesnions of cropped image\n",
        "    \n",
        "    img_padded = cv2.copyMakeBorder(crop_img,\n",
        "                                    (350-(height-int(height/2))), (350-int(height/2)), (550-int(width/2)), (550-(width-int(width/2))),\n",
        "                                    cv2.BORDER_CONSTANT, value = [255,255,255])\n",
        "    crop_img_final = img_padded[200:600, 100:900]\n",
        "    \n",
        "    forgeries_data.append(crop_img_final)\n",
        "    forged_label.append(filename)\n",
        "    "
      ],
      "execution_count": 0,
      "outputs": []
    },
    {
      "metadata": {
        "id": "O5p3LcrjmB81",
        "colab_type": "code",
        "colab": {}
      },
      "cell_type": "code",
      "source": [
        "#Resized images 800 x 1600 numpy arrays\n",
        "\n",
        "genuine_signs = np.array(genuine_data)\n",
        "forged_signs = np.array(forgeries_data)"
      ],
      "execution_count": 0,
      "outputs": []
    },
    {
      "metadata": {
        "id": "-gOODxy_mlYs",
        "colab_type": "code",
        "colab": {}
      },
      "cell_type": "code",
      "source": [
        "#names of images\n",
        "\n",
        "genuine_labels = np.array(genuine_label)\n",
        "forged_labels = np.array(forged_label)"
      ],
      "execution_count": 0,
      "outputs": []
    },
    {
      "metadata": {
        "id": "L8V1KRmVmnzi",
        "colab_type": "code",
        "colab": {
          "base_uri": "https://localhost:8080/",
          "height": 52
        },
        "outputId": "5e81f7db-cfcc-42c0-828c-4f75359a2a7f"
      },
      "cell_type": "code",
      "source": [
        "print(genuine_signs.shape)\n",
        "print(forged_signs.shape)"
      ],
      "execution_count": 12,
      "outputs": [
        {
          "output_type": "stream",
          "text": [
            "(235, 400, 800, 3)\n",
            "(340, 400, 800, 3)\n"
          ],
          "name": "stdout"
        }
      ]
    },
    {
      "metadata": {
        "id": "egq1gu8JmqPj",
        "colab_type": "code",
        "colab": {
          "base_uri": "https://localhost:8080/",
          "height": 52
        },
        "outputId": "6fa2efc7-919f-405f-b988-7cd29b36af51"
      },
      "cell_type": "code",
      "source": [
        "print(genuine_labels.shape)\n",
        "print(forged_labels.shape)"
      ],
      "execution_count": 13,
      "outputs": [
        {
          "output_type": "stream",
          "text": [
            "(235,)\n",
            "(340,)\n"
          ],
          "name": "stdout"
        }
      ]
    },
    {
      "metadata": {
        "id": "0ZOujQAPmsJ2",
        "colab_type": "code",
        "colab": {}
      },
      "cell_type": "code",
      "source": [
        "#Getting author labels\n",
        "\n",
        "glabels = np.zeros((genuine_labels.shape[0]))\n",
        "for i in range (genuine_labels.shape[0]):\n",
        "    for j in range (10):\n",
        "        if int(genuine_labels[i][1:3]) == (j+1):\n",
        "            glabels[i] = int(genuine_labels[i][1:3])  #author 1 to 10 are genuine\n",
        "            \n",
        "flabels = np.zeros((forged_labels.shape[0]))\n",
        "for i in range (forged_labels.shape[0]):\n",
        "    for j in range (16):\n",
        "        if int(forged_labels[i][2:4]) == (j+1):\n",
        "            flabels[i] = int(forged_labels[i][2:4])  \n",
        "            \n",
        "flabels = flabels + 10  #author 11 to 26 are forged....with forged author index = flabel - 10 "
      ],
      "execution_count": 0,
      "outputs": []
    },
    {
      "metadata": {
        "id": "oay1lZ0UmudL",
        "colab_type": "code",
        "colab": {
          "base_uri": "https://localhost:8080/",
          "height": 236
        },
        "outputId": "1f46d1f4-326f-4656-f3ba-352fa49a60a0"
      },
      "cell_type": "code",
      "source": [
        "#Testing resized genuine image\n",
        "print(glabels[200])\n",
        "imgplot = plt.imshow(genuine_signs[200])  "
      ],
      "execution_count": 15,
      "outputs": [
        {
          "output_type": "stream",
          "text": [
            "7.0\n"
          ],
          "name": "stdout"
        },
        {
          "output_type": "display_data",
          "data": {
            "image/png": "[encoded data removed]",
            "text/plain": [
              "<matplotlib.figure.Figure at 0x7fc74512ca90>"
            ]
          },
          "metadata": {
            "tags": []
          }
        }
      ]
    },
    {
      "metadata": {
        "id": "z19idaAzmyL2",
        "colab_type": "code",
        "colab": {
          "base_uri": "https://localhost:8080/",
          "height": 236
        },
        "outputId": "661d0a7d-3286-4376-ba04-f133bbab4fe8"
      },
      "cell_type": "code",
      "source": [
        "#Testing resized forged image\n",
        "print(flabels[5])\n",
        "imgplot = plt.imshow(forged_signs[5])  "
      ],
      "execution_count": 16,
      "outputs": [
        {
          "output_type": "stream",
          "text": [
            "19.0\n"
          ],
          "name": "stdout"
        },
        {
          "output_type": "display_data",
          "data": {
            "image/png": "[encoded data removed]",
            "text/plain": [
              "<matplotlib.figure.Figure at 0x7fc7448c6ef0>"
            ]
          },
          "metadata": {
            "tags": []
          }
        }
      ]
    },
    {
      "metadata": {
        "id": "e6cLs3S7m0ze",
        "colab_type": "code",
        "colab": {}
      },
      "cell_type": "code",
      "source": [
        "x_train = np.concatenate((genuine_signs, forged_signs))\n",
        "y_train = np.concatenate((glabels, flabels))"
      ],
      "execution_count": 0,
      "outputs": []
    },
    {
      "metadata": {
        "id": "8wLWOwVU_3gh",
        "colab_type": "code",
        "colab": {}
      },
      "cell_type": "code",
      "source": [
        "x_train = x_train.transpose((0, 3, 1, 2))"
      ],
      "execution_count": 0,
      "outputs": []
    },
    {
      "metadata": {
        "id": "LzaanIHNm56i",
        "colab_type": "code",
        "colab": {}
      },
      "cell_type": "code",
      "source": [
        "class SiameseNetworkDataset(Dataset):\n",
        "    \n",
        "    def __init__(self,x_train, y_train):\n",
        "        self.x_train = x_train   \n",
        "        self.y_train = y_train\n",
        "        \n",
        "    def __getitem__(self,index):\n",
        "        \n",
        "        index1 = random.randrange(len(self.x_train))\n",
        "        \n",
        "        img1 = x_train[index1]\n",
        "        label1 = y_train[index1]\n",
        "        \n",
        "        #we need to make sure approx 50% of images are in the same class\n",
        "        should_get_same_class = random.randint(0,1) \n",
        "        if should_get_same_class:\n",
        "            while True:\n",
        "                #keep looping till the same class image is found\n",
        "                index2 = random.randrange(len(x_train))\n",
        "                label2 = y_train[index2]\n",
        "                if label1 == label2:\n",
        "                    img2 = x_train[index2]\n",
        "                    break\n",
        "        else:\n",
        "            index2 = random.randrange(len(x_train))\n",
        "            img2 = x_train[index2]\n",
        "            label2 = y_train[index2]\n",
        "            \n",
        "        img1 = torch.from_numpy(img1)\n",
        "        img2 = torch.from_numpy(img2)\n",
        "        \n",
        "        img1 = img1.long()\n",
        "        img2 = img2.long()\n",
        "        \n",
        "        label = torch.from_numpy(np.array(int((label1 != label2))))\n",
        "        #label = label.long()\n",
        "        \n",
        "        return img1, img2 , label \n",
        "    \n",
        "    def __len__(self):\n",
        "        return len(x_train)"
      ],
      "execution_count": 0,
      "outputs": []
    },
    {
      "metadata": {
        "id": "0ekyivRvm8Lr",
        "colab_type": "code",
        "colab": {}
      },
      "cell_type": "code",
      "source": [
        "siamese_dataset = SiameseNetworkDataset(x_train = x_train,\n",
        "                                       y_train = y_train)"
      ],
      "execution_count": 0,
      "outputs": []
    },
    {
      "metadata": {
        "id": "Bv_y7k_im_0d",
        "colab_type": "code",
        "colab": {}
      },
      "cell_type": "code",
      "source": [
        "train_dataloader = DataLoader(siamese_dataset,\n",
        "                        shuffle=True,\n",
        "                        num_workers=0,\n",
        "                        batch_size=100)\n"
      ],
      "execution_count": 0,
      "outputs": []
    },
    {
      "metadata": {
        "id": "8K3aTnjbnBhB",
        "colab_type": "code",
        "colab": {}
      },
      "cell_type": "code",
      "source": [
        "class ContrastiveLoss(nn.Module):\n",
        "    \"\"\"\n",
        "    Contrastive loss function.\n",
        "    Based on: http://yann.lecun.com/exdb/publis/pdf/hadsell-chopra-lecun-06.pdf\n",
        "    \"\"\"\n",
        "\n",
        "    def __init__(self, margin=2.0):\n",
        "        super(ContrastiveLoss, self).__init__()\n",
        "        self.margin = margin\n",
        "\n",
        "    def forward(self, output1, output2, label):\n",
        "        label = label.type(torch.cuda.FloatTensor)\n",
        "        #print(label)\n",
        "        #label\n",
        "        euclidean_distance = F.pairwise_distance(output1, output2)\n",
        "        loss_contrastive = torch.mean((1-label) * torch.pow(euclidean_distance, 2) +\n",
        "                                      (label) * torch.pow(torch.clamp(self.margin - euclidean_distance, min=0.0), 2))\n",
        "\n",
        "\n",
        "        return loss_contrastive"
      ],
      "execution_count": 0,
      "outputs": []
    },
    {
      "metadata": {
        "id": "YhejxricnDLW",
        "colab_type": "code",
        "colab": {}
      },
      "cell_type": "code",
      "source": [
        "class RajSiameseNetwork(nn.Module):\n",
        "        def __init__(self):\n",
        "          super(RajSiameseNetwork, self).__init__()\n",
        "\n",
        "          #Convolution 1\n",
        "          self.cnn1 = nn.Conv2d(in_channels = 3, out_channels = 16, kernel_size = 5, stride = 1, padding = 2)\n",
        "          self.relu1 = nn.ReLU()\n",
        "          self.norm1 = nn.BatchNorm2d(16)\n",
        "\n",
        "          #maxpool1\n",
        "          self.maxpool1 = nn.MaxPool2d(kernel_size = 2)\n",
        "\n",
        "\n",
        "          #convolution2\n",
        "          self.cnn2 = nn.Conv2d(in_channels = 16, out_channels = 32, kernel_size = 5, stride = 1, padding = 2)\n",
        "          self.relu2 = nn.ReLU()\n",
        "          self.norm2 = nn.BatchNorm2d(32)\n",
        "\n",
        "          #maxpool2\n",
        "          self.maxpool2 = nn.MaxPool2d(kernel_size = 2)\n",
        "          \n",
        "          \n",
        "          #convolution3\n",
        "          self.cnn3 = nn.Conv2d(in_channels = 32, out_channels = 32, kernel_size = 5, stride = 1, padding = 2)\n",
        "          self.relu3 = nn.ReLU()\n",
        "          self.norm3 = nn.BatchNorm2d(32)\n",
        "\n",
        "          #maxpool3\n",
        "          self.maxpool3 = nn.MaxPool2d(kernel_size = 2)\n",
        "          \n",
        "          \n",
        "          #convolution4\n",
        "          self.cnn4 = nn.Conv2d(in_channels = 32, out_channels = 32, kernel_size = 5, stride = 1, padding = 2)\n",
        "          self.relu4 = nn.ReLU()\n",
        "          self.norm4 = nn.BatchNorm2d(32)\n",
        "\n",
        "          #maxpool4\n",
        "          self.maxpool4 = nn.MaxPool2d(kernel_size = 2)\n",
        "          \n",
        "          #convolution5\n",
        "          self.cnn5 = nn.Conv2d(in_channels = 32, out_channels = 32, kernel_size = 5, stride = 1, padding = 2)\n",
        "          self.relu5 = nn.ReLU()\n",
        "          self.norm5 = nn.BatchNorm2d(32)\n",
        "\n",
        "          #maxpool5\n",
        "          self.maxpool5 = nn.MaxPool2d(kernel_size = 2)\n",
        "\n",
        "\n",
        "\n",
        "          #FC layer\n",
        "          self.fc1 = nn.Linear(32*6*10, 32*6*10)\n",
        "\n",
        "          #relu3\n",
        "          self.relu3 = nn.ReLU()\n",
        "          self.fc2 = nn.Linear(32*6*10, 32*6*10)\n",
        "\n",
        "        def forward_once(self, x):\n",
        "          #cnn1\n",
        "          out = self.cnn1(x)\n",
        "          out = self.relu1(out)\n",
        "          out = self.norm1(out)\n",
        "\n",
        "          #maxpool1\n",
        "          out = self.maxpool1(out)\n",
        "          m = nn.Dropout2d(p=0.2)\n",
        "          out = m(out)\n",
        "\n",
        "          #cnn2\n",
        "          out = self.cnn2(out)    \n",
        "          out = self.relu2(out)\n",
        "          out = self.norm2(out)\n",
        "\n",
        "          #maxpool2\n",
        "          out = self.maxpool2(out)\n",
        "          m = nn.Dropout2d(p=0.2)\n",
        "          out = m(out)\n",
        "          \n",
        "          #cnn3\n",
        "          out = self.cnn3(out)    \n",
        "          out = self.relu3(out)\n",
        "          out = self.norm3(out)\n",
        "\n",
        "          #maxpool3\n",
        "          out = self.maxpool3(out)\n",
        "          m = nn.Dropout2d(p=0.2)\n",
        "          out = m(out)\n",
        "          \n",
        "          #cnn4\n",
        "          out = self.cnn4(out)    \n",
        "          out = self.relu4(out)\n",
        "          out = self.norm4(out)\n",
        "\n",
        "          #maxpool4\n",
        "          out = self.maxpool4(out)\n",
        "          m = nn.Dropout2d(p=0.2)\n",
        "          out = m(out)\n",
        "          \n",
        "          #cnn5\n",
        "          out = self.cnn5(out)    \n",
        "          out = self.relu5(out)\n",
        "          out = self.norm5(out)\n",
        "\n",
        "          #maxpool5\n",
        "          out = self.maxpool5(out)\n",
        "          m = nn.Dropout2d(p=0.2)\n",
        "          out = m(out)\n",
        "          \n",
        "          #cnn6\n",
        "          out = self.cnn5(out)    \n",
        "          out = self.relu5(out)\n",
        "          out = self.norm5(out)\n",
        "\n",
        "          #maxpool5\n",
        "          out = self.maxpool5(out)\n",
        "          m = nn.Dropout2d(p=0.2)\n",
        "          out = m(out)\n",
        "          \n",
        "          #resize \n",
        "          out = out.view(out.size(0), -1)\n",
        "          out = 10000 * out\n",
        "\n",
        "          #linear function (readout)\n",
        "          #out = self.fc1(out)\n",
        "\n",
        "          #out = self.relu3(out)\n",
        "          #out = self.fc2(out)\n",
        "\n",
        "        def forward(self, input1, input2):\n",
        "          output1 = self.forward_once(input1)\n",
        "          output2 = self.forward_once(input2)\n",
        "          return output1, output2"
      ],
      "execution_count": 0,
      "outputs": []
    },
    {
      "metadata": {
        "id": "9f9QyCcAYUoM",
        "colab_type": "code",
        "colab": {}
      },
      "cell_type": "code",
      "source": [
        "class SiameseNetwork(nn.Module):\n",
        "    def __init__(self):\n",
        "        super(SiameseNetwork, self).__init__()\n",
        "        self.cnn1 = nn.Sequential(\n",
        "            nn.ReflectionPad2d(1),\n",
        "            nn.Conv2d(3, 4, kernel_size = 5, stride = 1, padding = 2),\n",
        "            nn.ReLU(inplace=True),\n",
        "            nn.BatchNorm2d(4),\n",
        "            \n",
        "            nn.MaxPool2d(kernel_size = 2),\n",
        "            nn.Dropout2d(p=0.2),\n",
        "            \n",
        "            nn.ReflectionPad2d(1),\n",
        "            nn.Conv2d(4, 8, kernel_size = 5, stride = 1, padding = 2),\n",
        "            nn.ReLU(inplace=True),\n",
        "            nn.BatchNorm2d(8),\n",
        "            \n",
        "            nn.MaxPool2d(kernel_size = 2),\n",
        "            nn.Dropout2d(p=0.2),\n",
        "\n",
        "\n",
        "            nn.ReflectionPad2d(1),\n",
        "            nn.Conv2d(8, 8, kernel_size = 5, stride = 1, padding = 2),\n",
        "            nn.ReLU(inplace=True),\n",
        "            nn.BatchNorm2d(8),\n",
        "            \n",
        "            nn.MaxPool2d(kernel_size = 2),\n",
        "            nn.Dropout2d(p=0.2),\n",
        "            \n",
        "            nn.ReflectionPad2d(1),\n",
        "            nn.Conv2d(8, 8, kernel_size = 5, stride = 1, padding = 2),\n",
        "            nn.ReLU(inplace=True),\n",
        "            nn.BatchNorm2d(8),\n",
        "            \n",
        "            nn.MaxPool2d(kernel_size = 2),\n",
        "            nn.Dropout2d(p=0.2),\n",
        "\n",
        "\n",
        "        )\n",
        "      \n",
        "\n",
        "        self.fc1 = nn.Sequential(\n",
        "            nn.Linear(10608, 500),           #should be 10000 x 500\n",
        "            nn.ReLU(inplace=True),\n",
        "\n",
        "            nn.Linear(500, 500),\n",
        "            nn.ReLU(inplace=True),\n",
        "\n",
        "            nn.Linear(500, 5))\n",
        "\n",
        "    def forward_once(self, x):\n",
        "        output = self.cnn1(x)\n",
        "        output = output.view(output.size()[0], -1)\n",
        "        output = self.fc1(output)\n",
        "        output = output\n",
        "        return output\n",
        "\n",
        "    def forward(self, input1, input2):\n",
        "        output1 = self.forward_once(input1)\n",
        "        output2 = self.forward_once(input2)\n",
        "        return output1, output2"
      ],
      "execution_count": 0,
      "outputs": []
    },
    {
      "metadata": {
        "id": "c2QTe_1LnFeW",
        "colab_type": "code",
        "colab": {}
      },
      "cell_type": "code",
      "source": [
        "net = SiameseNetwork().cuda()\n",
        "criterion = ContrastiveLoss()\n",
        "optimizer = torch.optim.Adam(net.parameters(),lr = 0.0005 )"
      ],
      "execution_count": 0,
      "outputs": []
    },
    {
      "metadata": {
        "id": "H2YYHVV7nHyS",
        "colab_type": "code",
        "colab": {}
      },
      "cell_type": "code",
      "source": [
        "counter = []\n",
        "loss_history = [] \n",
        "iteration_number= 0"
      ],
      "execution_count": 0,
      "outputs": []
    },
    {
      "metadata": {
        "id": "592i09FpnKYs",
        "colab_type": "code",
        "colab": {
          "base_uri": "https://localhost:8080/",
          "height": 5227
        },
        "outputId": "d2f226bf-16d3-4cd9-e536-9d77531f836e"
      },
      "cell_type": "code",
      "source": [
        "for epoch in range(0,100):\n",
        "    for i, data in enumerate(train_dataloader,0):\n",
        "        img0, img1, label = data\n",
        "        img0 = img0.float()\n",
        "        img1 = img1.float()\n",
        "        img0, img1 , label = img0.cuda(), img1.cuda() , label.cuda()\n",
        "        optimizer.zero_grad()\n",
        "        #print(img0)\n",
        "        #print(img1)\n",
        "        output1,output2 = net(img0,img1)\n",
        "        #print(output1)\n",
        "        loss_contrastive = criterion(output1,output2,label)\n",
        "        loss_contrastive.backward()\n",
        "        optimizer.step()\n",
        "        if i %10 == 0 :\n",
        "            print(\"Epoch number {}\\n Current loss {}\\n\".format(epoch,loss_contrastive.item()))\n",
        "            iteration_number +=10\n",
        "            counter.append(iteration_number)\n",
        "            loss_history.append(loss_contrastive.item())\n"
      ],
      "execution_count": 36,
      "outputs": [
        {
          "output_type": "stream",
          "text": [
            "Epoch number 0\n",
            " Current loss 1.4290812015533447\n",
            "\n",
            "Epoch number 1\n",
            " Current loss 1.0630866289138794\n",
            "\n",
            "Epoch number 2\n",
            " Current loss 1.0330480337142944\n",
            "\n",
            "Epoch number 3\n",
            " Current loss 1.0146353244781494\n",
            "\n",
            "Epoch number 4\n",
            " Current loss 0.8903472423553467\n",
            "\n",
            "Epoch number 5\n",
            " Current loss 0.834700882434845\n",
            "\n",
            "Epoch number 6\n",
            " Current loss 0.7481083273887634\n",
            "\n",
            "Epoch number 7\n",
            " Current loss 0.7760414481163025\n",
            "\n",
            "Epoch number 8\n",
            " Current loss 0.8179765343666077\n",
            "\n",
            "Epoch number 9\n",
            " Current loss 0.6447890996932983\n",
            "\n",
            "Epoch number 10\n",
            " Current loss 0.625473141670227\n",
            "\n",
            "Epoch number 11\n",
            " Current loss 0.5905139446258545\n",
            "\n",
            "Epoch number 12\n",
            " Current loss 0.49135062098503113\n",
            "\n",
            "Epoch number 13\n",
            " Current loss 0.5751019716262817\n",
            "\n",
            "Epoch number 14\n",
            " Current loss 0.6089391708374023\n",
            "\n",
            "Epoch number 15\n",
            " Current loss 0.4926358163356781\n",
            "\n",
            "Epoch number 16\n",
            " Current loss 0.5086678862571716\n",
            "\n",
            "Epoch number 17\n",
            " Current loss 0.44655656814575195\n",
            "\n",
            "Epoch number 18\n",
            " Current loss 0.39821529388427734\n",
            "\n",
            "Epoch number 19\n",
            " Current loss 0.46961352229118347\n",
            "\n",
            "Epoch number 20\n",
            " Current loss 0.3806118369102478\n",
            "\n",
            "Epoch number 21\n",
            " Current loss 0.4280063509941101\n",
            "\n",
            "Epoch number 22\n",
            " Current loss 0.31198325753211975\n",
            "\n",
            "Epoch number 23\n",
            " Current loss 0.42416495084762573\n",
            "\n",
            "Epoch number 24\n",
            " Current loss 0.3333124816417694\n",
            "\n",
            "Epoch number 25\n",
            " Current loss 0.44864416122436523\n",
            "\n",
            "Epoch number 26\n",
            " Current loss 0.27405625581741333\n",
            "\n",
            "Epoch number 27\n",
            " Current loss 0.3842020630836487\n",
            "\n",
            "Epoch number 28\n",
            " Current loss 0.40139806270599365\n",
            "\n",
            "Epoch number 29\n",
            " Current loss 0.35297176241874695\n",
            "\n",
            "Epoch number 30\n",
            " Current loss 0.38315555453300476\n",
            "\n",
            "Epoch number 31\n",
            " Current loss 0.31535759568214417\n",
            "\n",
            "Epoch number 32\n",
            " Current loss 0.32896140217781067\n",
            "\n",
            "Epoch number 33\n",
            " Current loss 0.3611777424812317\n",
            "\n",
            "Epoch number 34\n",
            " Current loss 0.2679741084575653\n",
            "\n",
            "Epoch number 35\n",
            " Current loss 0.2818244993686676\n",
            "\n",
            "Epoch number 36\n",
            " Current loss 0.29391464591026306\n",
            "\n",
            "Epoch number 37\n",
            " Current loss 0.3099619746208191\n",
            "\n",
            "Epoch number 38\n",
            " Current loss 0.3047918677330017\n",
            "\n",
            "Epoch number 39\n",
            " Current loss 0.18522468209266663\n",
            "\n",
            "Epoch number 40\n",
            " Current loss 0.2797199785709381\n",
            "\n",
            "Epoch number 41\n",
            " Current loss 0.22406266629695892\n",
            "\n",
            "Epoch number 42\n",
            " Current loss 0.2157825082540512\n",
            "\n",
            "Epoch number 43\n",
            " Current loss 0.25765669345855713\n",
            "\n",
            "Epoch number 44\n",
            " Current loss 0.2289864718914032\n",
            "\n",
            "Epoch number 45\n",
            " Current loss 0.19740495085716248\n",
            "\n",
            "Epoch number 46\n",
            " Current loss 0.25453415513038635\n",
            "\n",
            "Epoch number 47\n",
            " Current loss 0.24198505282402039\n",
            "\n",
            "Epoch number 48\n",
            " Current loss 0.17955932021141052\n",
            "\n",
            "Epoch number 49\n",
            " Current loss 0.26036664843559265\n",
            "\n",
            "Epoch number 50\n",
            " Current loss 0.20659500360488892\n",
            "\n",
            "Epoch number 51\n",
            " Current loss 0.17915122210979462\n",
            "\n",
            "Epoch number 52\n",
            " Current loss 0.21868379414081573\n",
            "\n",
            "Epoch number 53\n",
            " Current loss 0.16120927035808563\n",
            "\n",
            "Epoch number 54\n",
            " Current loss 0.19683097302913666\n",
            "\n",
            "Epoch number 55\n",
            " Current loss 0.1698451042175293\n",
            "\n",
            "Epoch number 56\n",
            " Current loss 0.1984918713569641\n",
            "\n",
            "Epoch number 57\n",
            " Current loss 0.25744760036468506\n",
            "\n",
            "Epoch number 58\n",
            " Current loss 0.1656203418970108\n",
            "\n",
            "Epoch number 59\n",
            " Current loss 0.17961984872817993\n",
            "\n",
            "Epoch number 60\n",
            " Current loss 0.17235682904720306\n",
            "\n",
            "Epoch number 61\n",
            " Current loss 0.16416318714618683\n",
            "\n",
            "Epoch number 62\n",
            " Current loss 0.1830192357301712\n",
            "\n",
            "Epoch number 63\n",
            " Current loss 0.2700904607772827\n",
            "\n",
            "Epoch number 64\n",
            " Current loss 0.1606042981147766\n",
            "\n",
            "Epoch number 65\n",
            " Current loss 0.17724095284938812\n",
            "\n",
            "Epoch number 66\n",
            " Current loss 0.1439865529537201\n",
            "\n",
            "Epoch number 67\n",
            " Current loss 0.19525855779647827\n",
            "\n",
            "Epoch number 68\n",
            " Current loss 0.16080215573310852\n",
            "\n",
            "Epoch number 69\n",
            " Current loss 0.20812220871448517\n",
            "\n",
            "Epoch number 70\n",
            " Current loss 0.15306100249290466\n",
            "\n",
            "Epoch number 71\n",
            " Current loss 0.149849072098732\n",
            "\n",
            "Epoch number 72\n",
            " Current loss 0.13353700935840607\n",
            "\n",
            "Epoch number 73\n",
            " Current loss 0.10743597894906998\n",
            "\n",
            "Epoch number 74\n",
            " Current loss 0.13082125782966614\n",
            "\n",
            "Epoch number 75\n",
            " Current loss 0.09136983752250671\n",
            "\n",
            "Epoch number 76\n",
            " Current loss 0.08325305581092834\n",
            "\n",
            "Epoch number 77\n",
            " Current loss 0.10430661588907242\n",
            "\n",
            "Epoch number 78\n",
            " Current loss 0.10996650159358978\n",
            "\n",
            "Epoch number 79\n",
            " Current loss 0.12028678506612778\n",
            "\n",
            "Epoch number 80\n",
            " Current loss 0.17775577306747437\n",
            "\n",
            "Epoch number 81\n",
            " Current loss 0.11380434781312943\n",
            "\n",
            "Epoch number 82\n",
            " Current loss 0.1185174435377121\n",
            "\n",
            "Epoch number 83\n",
            " Current loss 0.10044459998607635\n",
            "\n",
            "Epoch number 84\n",
            " Current loss 0.16368736326694489\n",
            "\n",
            "Epoch number 85\n",
            " Current loss 0.08874879777431488\n",
            "\n",
            "Epoch number 86\n",
            " Current loss 0.10258742421865463\n",
            "\n",
            "Epoch number 87\n",
            " Current loss 0.0921737477183342\n",
            "\n",
            "Epoch number 88\n",
            " Current loss 0.09958122670650482\n",
            "\n",
            "Epoch number 89\n",
            " Current loss 0.08571618050336838\n",
            "\n",
            "Epoch number 90\n",
            " Current loss 0.09796919673681259\n",
            "\n",
            "Epoch number 91\n",
            " Current loss 0.06641612946987152\n",
            "\n",
            "Epoch number 92\n",
            " Current loss 0.09865702688694\n",
            "\n",
            "Epoch number 93\n",
            " Current loss 0.06844662129878998\n",
            "\n",
            "Epoch number 94\n",
            " Current loss 0.10163545608520508\n",
            "\n",
            "Epoch number 95\n",
            " Current loss 0.09606024622917175\n",
            "\n",
            "Epoch number 96\n",
            " Current loss 0.08762309700250626\n",
            "\n",
            "Epoch number 97\n",
            " Current loss 0.08626973628997803\n",
            "\n",
            "Epoch number 98\n",
            " Current loss 0.058035995811223984\n",
            "\n",
            "Epoch number 99\n",
            " Current loss 0.07690150290727615\n",
            "\n"
          ],
          "name": "stdout"
        }
      ]
    },
    {
      "metadata": {
        "id": "E2FHMT0VnPsG",
        "colab_type": "code",
        "colab": {
          "base_uri": "https://localhost:8080/",
          "height": 265
        },
        "outputId": "5c51eb43-0715-4ef6-fb75-220a583199f1"
      },
      "cell_type": "code",
      "source": [
        "def show_plot(iteration,loss):\n",
        "    plt.plot(iteration,loss)\n",
        "    plt.show()\n",
        "\n",
        "show_plot(counter,loss_history)"
      ],
      "execution_count": 37,
      "outputs": [
        {
          "output_type": "display_data",
          "data": {
            "image/png": "[encoded data removed]",
            "text/plain": [
              "<matplotlib.figure.Figure at 0x7fc64f55df28>"
            ]
          },
          "metadata": {
            "tags": []
          }
        }
      ]
    },
    {
      "metadata": {
        "id": "Se_tJCFWEoED",
        "colab_type": "code",
        "colab": {}
      },
      "cell_type": "code",
      "source": [
        "torch.save(net, 'net.pt')"
      ],
      "execution_count": 0,
      "outputs": []
    },
    {
      "metadata": {
        "id": "nL0z2ukduELo",
        "colab_type": "code",
        "colab": {}
      },
      "cell_type": "code",
      "source": [
        "net = torch.load('net.pt')"
      ],
      "execution_count": 0,
      "outputs": []
    }
  ]
}